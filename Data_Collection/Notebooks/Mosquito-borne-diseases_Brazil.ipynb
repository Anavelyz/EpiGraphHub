{
 "cells": [
  {
   "cell_type": "code",
   "execution_count": 2,
   "metadata": {
    "ExecuteTime": {
     "end_time": "2021-09-24T08:07:08.341702Z",
     "start_time": "2021-09-24T08:07:08.335975Z"
    }
   },
   "outputs": [],
   "source": [
    "from pysus.online_data import SINAN\n",
    "import pandas as pd"
   ]
  },
  {
   "cell_type": "markdown",
   "metadata": {},
   "source": [
    "# Importing Brazilian Infecctious disease notification data "
   ]
  },
  {
   "cell_type": "code",
   "execution_count": 3,
   "metadata": {
    "ExecuteTime": {
     "end_time": "2021-09-24T08:07:11.934268Z",
     "start_time": "2021-09-24T08:07:11.909085Z"
    }
   },
   "outputs": [
    {
     "data": {
      "text/plain": [
       "['Animais Peçonhentos',\n",
       " 'Botulismo',\n",
       " 'Chagas',\n",
       " 'Chikungunya',\n",
       " 'Colera',\n",
       " 'Coqueluche',\n",
       " 'Dengue',\n",
       " 'Difteria',\n",
       " 'Esquistossomose',\n",
       " 'Febre Amarela',\n",
       " 'Febre Maculosa',\n",
       " 'Febre Tifoide',\n",
       " 'Hanseniase',\n",
       " 'Hantavirose',\n",
       " 'Hepatites Virais',\n",
       " 'Intoxicação Exógena',\n",
       " 'Leishmaniose Visceral',\n",
       " 'Leptospirose',\n",
       " 'Leishmaniose Tegumentar',\n",
       " 'Malaria',\n",
       " 'Meningite',\n",
       " 'Peste',\n",
       " 'Poliomielite',\n",
       " 'Raiva Humana',\n",
       " 'Tétano Acidental',\n",
       " 'Tétano Neonatal',\n",
       " 'Tuberculose',\n",
       " 'Violência Domestica']"
      ]
     },
     "execution_count": 3,
     "metadata": {},
     "output_type": "execute_result"
    }
   ],
   "source": [
    "SINAN.list_diseases()"
   ]
  },
  {
   "cell_type": "markdown",
   "metadata": {},
   "source": [
    "## Mosquito-Borne Diseases\n",
    "in this notebook we will focus on mosquito borne diseases, available in the public SINAN database, namely `dengue`, `Chikungunya` and `Yellow fever` (febre amarela). We could get malaria data, but Malaria is maily registered on another system, SIVEP-Malaria, which is currently no publicly available. Malaria data in SINAN is incomplete at best.\n",
    "\n",
    "We start by querying how many years of data is available in the database. For this we have to pick a state, since the data is split by state."
   ]
  },
  {
   "cell_type": "code",
   "execution_count": 4,
   "metadata": {
    "ExecuteTime": {
     "end_time": "2021-09-24T08:09:11.189305Z",
     "start_time": "2021-09-24T08:09:08.463818Z"
    }
   },
   "outputs": [
    {
     "data": {
      "text/plain": [
       "['DENGRJ13.dbc',\n",
       " 'DENGRJ14.dbc',\n",
       " 'DENGRJ15.dbc',\n",
       " 'DENGRJ16.dbc',\n",
       " 'DENGRJ17.dbc',\n",
       " 'DENGRJ18.dbc',\n",
       " 'DENGRJ19.dbc']"
      ]
     },
     "execution_count": 4,
     "metadata": {},
     "output_type": "execute_result"
    }
   ],
   "source": [
    "SINAN.get_available_years('RJ', 'dengue')"
   ]
  },
  {
   "cell_type": "code",
   "execution_count": 5,
   "metadata": {
    "ExecuteTime": {
     "end_time": "2021-09-24T08:09:49.780801Z",
     "start_time": "2021-09-24T08:09:46.928485Z"
    }
   },
   "outputs": [
    {
     "data": {
      "text/plain": [
       "['CHIKRJ15.dbc',\n",
       " 'CHIKRJ16.dbc',\n",
       " 'CHIKRJ17.dbc',\n",
       " 'CHIKRJ18.dbc',\n",
       " 'CHIKRJ19.dbc']"
      ]
     },
     "execution_count": 5,
     "metadata": {},
     "output_type": "execute_result"
    }
   ],
   "source": [
    "SINAN.get_available_years('RJ', 'Chikungunya')"
   ]
  },
  {
   "cell_type": "code",
   "execution_count": 6,
   "metadata": {
    "ExecuteTime": {
     "end_time": "2021-09-24T08:10:08.637854Z",
     "start_time": "2021-09-24T08:10:06.158387Z"
    }
   },
   "outputs": [
    {
     "data": {
      "text/plain": [
       "['FAMARJ07.dbc',\n",
       " 'FAMARJ08.dbc',\n",
       " 'FAMARJ09.dbc',\n",
       " 'FAMARJ10.dbc',\n",
       " 'FAMARJ11.dbc',\n",
       " 'FAMARJ12.dbc',\n",
       " 'FAMARJ13.dbc',\n",
       " 'FAMARJ14.dbc']"
      ]
     },
     "execution_count": 6,
     "metadata": {},
     "output_type": "execute_result"
    }
   ],
   "source": [
    "SINAN.get_available_years('RJ', 'Febre Amarela')"
   ]
  },
  {
   "cell_type": "markdown",
   "metadata": {},
   "source": [
    "It is very simple to fetch the data."
   ]
  },
  {
   "cell_type": "code",
   "execution_count": 8,
   "metadata": {
    "ExecuteTime": {
     "end_time": "2021-09-24T08:11:58.395225Z",
     "start_time": "2021-09-24T08:11:56.577705Z"
    }
   },
   "outputs": [
    {
     "data": {
      "text/html": [
       "<div>\n",
       "<style scoped>\n",
       "    .dataframe tbody tr th:only-of-type {\n",
       "        vertical-align: middle;\n",
       "    }\n",
       "\n",
       "    .dataframe tbody tr th {\n",
       "        vertical-align: top;\n",
       "    }\n",
       "\n",
       "    .dataframe thead th {\n",
       "        text-align: right;\n",
       "    }\n",
       "</style>\n",
       "<table border=\"1\" class=\"dataframe\">\n",
       "  <thead>\n",
       "    <tr style=\"text-align: right;\">\n",
       "      <th></th>\n",
       "      <th>TP_NOT</th>\n",
       "      <th>ID_AGRAVO</th>\n",
       "      <th>CS_SUSPEIT</th>\n",
       "      <th>DT_NOTIFIC</th>\n",
       "      <th>SEM_NOT</th>\n",
       "      <th>NU_ANO</th>\n",
       "      <th>SG_UF_NOT</th>\n",
       "      <th>ID_MUNICIP</th>\n",
       "      <th>ID_REGIONA</th>\n",
       "      <th>DT_SIN_PRI</th>\n",
       "      <th>...</th>\n",
       "      <th>COPAISINF</th>\n",
       "      <th>COMUNINF</th>\n",
       "      <th>DOENCA_TRA</th>\n",
       "      <th>EVOLUCAO</th>\n",
       "      <th>DT_OBITO</th>\n",
       "      <th>DT_ENCERRA</th>\n",
       "      <th>CS_FLXRET</th>\n",
       "      <th>FLXRECEBI</th>\n",
       "      <th>TP_SISTEMA</th>\n",
       "      <th>TPUNINOT</th>\n",
       "    </tr>\n",
       "  </thead>\n",
       "  <tbody>\n",
       "    <tr>\n",
       "      <th>0</th>\n",
       "      <td>2</td>\n",
       "      <td>A92.</td>\n",
       "      <td></td>\n",
       "      <td>2018-11-18</td>\n",
       "      <td>201847</td>\n",
       "      <td>2018</td>\n",
       "      <td>35</td>\n",
       "      <td>355220</td>\n",
       "      <td>1353</td>\n",
       "      <td>2018-11-15</td>\n",
       "      <td>...</td>\n",
       "      <td></td>\n",
       "      <td></td>\n",
       "      <td></td>\n",
       "      <td>9</td>\n",
       "      <td>None</td>\n",
       "      <td>2018-11-27</td>\n",
       "      <td></td>\n",
       "      <td></td>\n",
       "      <td>2</td>\n",
       "      <td></td>\n",
       "    </tr>\n",
       "    <tr>\n",
       "      <th>1</th>\n",
       "      <td>2</td>\n",
       "      <td>A92.</td>\n",
       "      <td></td>\n",
       "      <td>2018-05-10</td>\n",
       "      <td>201819</td>\n",
       "      <td>2018</td>\n",
       "      <td>35</td>\n",
       "      <td>354990</td>\n",
       "      <td>1351</td>\n",
       "      <td>2018-05-08</td>\n",
       "      <td>...</td>\n",
       "      <td></td>\n",
       "      <td></td>\n",
       "      <td></td>\n",
       "      <td></td>\n",
       "      <td>None</td>\n",
       "      <td>None</td>\n",
       "      <td></td>\n",
       "      <td></td>\n",
       "      <td>2</td>\n",
       "      <td></td>\n",
       "    </tr>\n",
       "    <tr>\n",
       "      <th>2</th>\n",
       "      <td>2</td>\n",
       "      <td>A92.</td>\n",
       "      <td></td>\n",
       "      <td>2018-02-12</td>\n",
       "      <td>201807</td>\n",
       "      <td>2018</td>\n",
       "      <td>35</td>\n",
       "      <td>350850</td>\n",
       "      <td>1351</td>\n",
       "      <td>2018-02-01</td>\n",
       "      <td>...</td>\n",
       "      <td></td>\n",
       "      <td></td>\n",
       "      <td></td>\n",
       "      <td>1</td>\n",
       "      <td>None</td>\n",
       "      <td>2018-03-26</td>\n",
       "      <td></td>\n",
       "      <td></td>\n",
       "      <td>2</td>\n",
       "      <td></td>\n",
       "    </tr>\n",
       "    <tr>\n",
       "      <th>3</th>\n",
       "      <td>2</td>\n",
       "      <td>A92.</td>\n",
       "      <td></td>\n",
       "      <td>2018-03-19</td>\n",
       "      <td>201812</td>\n",
       "      <td>2018</td>\n",
       "      <td>35</td>\n",
       "      <td>355220</td>\n",
       "      <td>1353</td>\n",
       "      <td>2018-03-11</td>\n",
       "      <td>...</td>\n",
       "      <td></td>\n",
       "      <td></td>\n",
       "      <td></td>\n",
       "      <td>1</td>\n",
       "      <td>None</td>\n",
       "      <td>2018-04-13</td>\n",
       "      <td></td>\n",
       "      <td></td>\n",
       "      <td>2</td>\n",
       "      <td></td>\n",
       "    </tr>\n",
       "    <tr>\n",
       "      <th>4</th>\n",
       "      <td>2</td>\n",
       "      <td>A92.</td>\n",
       "      <td></td>\n",
       "      <td>2018-12-12</td>\n",
       "      <td>201850</td>\n",
       "      <td>2018</td>\n",
       "      <td>35</td>\n",
       "      <td>355220</td>\n",
       "      <td>1353</td>\n",
       "      <td>2018-09-10</td>\n",
       "      <td>...</td>\n",
       "      <td></td>\n",
       "      <td></td>\n",
       "      <td></td>\n",
       "      <td></td>\n",
       "      <td>None</td>\n",
       "      <td>None</td>\n",
       "      <td></td>\n",
       "      <td></td>\n",
       "      <td>2</td>\n",
       "      <td></td>\n",
       "    </tr>\n",
       "    <tr>\n",
       "      <th>...</th>\n",
       "      <td>...</td>\n",
       "      <td>...</td>\n",
       "      <td>...</td>\n",
       "      <td>...</td>\n",
       "      <td>...</td>\n",
       "      <td>...</td>\n",
       "      <td>...</td>\n",
       "      <td>...</td>\n",
       "      <td>...</td>\n",
       "      <td>...</td>\n",
       "      <td>...</td>\n",
       "      <td>...</td>\n",
       "      <td>...</td>\n",
       "      <td>...</td>\n",
       "      <td>...</td>\n",
       "      <td>...</td>\n",
       "      <td>...</td>\n",
       "      <td>...</td>\n",
       "      <td>...</td>\n",
       "      <td>...</td>\n",
       "      <td>...</td>\n",
       "    </tr>\n",
       "    <tr>\n",
       "      <th>3544</th>\n",
       "      <td>2</td>\n",
       "      <td>A92.</td>\n",
       "      <td></td>\n",
       "      <td>2018-09-04</td>\n",
       "      <td>201836</td>\n",
       "      <td>2018</td>\n",
       "      <td>35</td>\n",
       "      <td>355030</td>\n",
       "      <td>1331</td>\n",
       "      <td>2018-08-12</td>\n",
       "      <td>...</td>\n",
       "      <td></td>\n",
       "      <td></td>\n",
       "      <td></td>\n",
       "      <td></td>\n",
       "      <td>None</td>\n",
       "      <td>None</td>\n",
       "      <td></td>\n",
       "      <td></td>\n",
       "      <td>2</td>\n",
       "      <td></td>\n",
       "    </tr>\n",
       "    <tr>\n",
       "      <th>3545</th>\n",
       "      <td>2</td>\n",
       "      <td>A92.</td>\n",
       "      <td></td>\n",
       "      <td>2018-02-05</td>\n",
       "      <td>201806</td>\n",
       "      <td>2018</td>\n",
       "      <td>35</td>\n",
       "      <td>353070</td>\n",
       "      <td>1350</td>\n",
       "      <td>2018-02-05</td>\n",
       "      <td>...</td>\n",
       "      <td></td>\n",
       "      <td></td>\n",
       "      <td></td>\n",
       "      <td>1</td>\n",
       "      <td>None</td>\n",
       "      <td>2018-02-14</td>\n",
       "      <td></td>\n",
       "      <td></td>\n",
       "      <td>2</td>\n",
       "      <td></td>\n",
       "    </tr>\n",
       "    <tr>\n",
       "      <th>3546</th>\n",
       "      <td>2</td>\n",
       "      <td>A92.</td>\n",
       "      <td></td>\n",
       "      <td>2018-04-03</td>\n",
       "      <td>201814</td>\n",
       "      <td>2018</td>\n",
       "      <td>35</td>\n",
       "      <td>353390</td>\n",
       "      <td>1339</td>\n",
       "      <td>2018-03-30</td>\n",
       "      <td>...</td>\n",
       "      <td></td>\n",
       "      <td></td>\n",
       "      <td></td>\n",
       "      <td>1</td>\n",
       "      <td>None</td>\n",
       "      <td>2018-04-18</td>\n",
       "      <td></td>\n",
       "      <td></td>\n",
       "      <td>2</td>\n",
       "      <td></td>\n",
       "    </tr>\n",
       "    <tr>\n",
       "      <th>3547</th>\n",
       "      <td>2</td>\n",
       "      <td>A92.</td>\n",
       "      <td></td>\n",
       "      <td>2018-09-03</td>\n",
       "      <td>201836</td>\n",
       "      <td>2018</td>\n",
       "      <td>35</td>\n",
       "      <td>354140</td>\n",
       "      <td>1346</td>\n",
       "      <td>2018-08-23</td>\n",
       "      <td>...</td>\n",
       "      <td></td>\n",
       "      <td></td>\n",
       "      <td></td>\n",
       "      <td></td>\n",
       "      <td>None</td>\n",
       "      <td>None</td>\n",
       "      <td></td>\n",
       "      <td></td>\n",
       "      <td>2</td>\n",
       "      <td></td>\n",
       "    </tr>\n",
       "    <tr>\n",
       "      <th>3548</th>\n",
       "      <td>2</td>\n",
       "      <td>A92.</td>\n",
       "      <td></td>\n",
       "      <td>2018-12-08</td>\n",
       "      <td>201849</td>\n",
       "      <td>2018</td>\n",
       "      <td>35</td>\n",
       "      <td>351830</td>\n",
       "      <td>1333</td>\n",
       "      <td>2018-12-08</td>\n",
       "      <td>...</td>\n",
       "      <td></td>\n",
       "      <td></td>\n",
       "      <td></td>\n",
       "      <td></td>\n",
       "      <td>None</td>\n",
       "      <td>None</td>\n",
       "      <td></td>\n",
       "      <td></td>\n",
       "      <td>2</td>\n",
       "      <td></td>\n",
       "    </tr>\n",
       "  </tbody>\n",
       "</table>\n",
       "<p>3549 rows × 38 columns</p>\n",
       "</div>"
      ],
      "text/plain": [
       "     TP_NOT ID_AGRAVO CS_SUSPEIT  DT_NOTIFIC SEM_NOT NU_ANO SG_UF_NOT  \\\n",
       "0         2      A92.             2018-11-18  201847   2018        35   \n",
       "1         2      A92.             2018-05-10  201819   2018        35   \n",
       "2         2      A92.             2018-02-12  201807   2018        35   \n",
       "3         2      A92.             2018-03-19  201812   2018        35   \n",
       "4         2      A92.             2018-12-12  201850   2018        35   \n",
       "...     ...       ...        ...         ...     ...    ...       ...   \n",
       "3544      2      A92.             2018-09-04  201836   2018        35   \n",
       "3545      2      A92.             2018-02-05  201806   2018        35   \n",
       "3546      2      A92.             2018-04-03  201814   2018        35   \n",
       "3547      2      A92.             2018-09-03  201836   2018        35   \n",
       "3548      2      A92.             2018-12-08  201849   2018        35   \n",
       "\n",
       "     ID_MUNICIP ID_REGIONA  DT_SIN_PRI  ... COPAISINF  COMUNINF DOENCA_TRA  \\\n",
       "0        355220       1353  2018-11-15  ...                                  \n",
       "1        354990       1351  2018-05-08  ...                                  \n",
       "2        350850       1351  2018-02-01  ...                                  \n",
       "3        355220       1353  2018-03-11  ...                                  \n",
       "4        355220       1353  2018-09-10  ...                                  \n",
       "...         ...        ...         ...  ...       ...       ...        ...   \n",
       "3544     355030       1331  2018-08-12  ...                                  \n",
       "3545     353070       1350  2018-02-05  ...                                  \n",
       "3546     353390       1339  2018-03-30  ...                                  \n",
       "3547     354140       1346  2018-08-23  ...                                  \n",
       "3548     351830       1333  2018-12-08  ...                                  \n",
       "\n",
       "     EVOLUCAO DT_OBITO  DT_ENCERRA CS_FLXRET FLXRECEBI TP_SISTEMA TPUNINOT  \n",
       "0           9     None  2018-11-27                              2           \n",
       "1                 None        None                              2           \n",
       "2           1     None  2018-03-26                              2           \n",
       "3           1     None  2018-04-13                              2           \n",
       "4                 None        None                              2           \n",
       "...       ...      ...         ...       ...       ...        ...      ...  \n",
       "3544              None        None                              2           \n",
       "3545        1     None  2018-02-14                              2           \n",
       "3546        1     None  2018-04-18                              2           \n",
       "3547              None        None                              2           \n",
       "3548              None        None                              2           \n",
       "\n",
       "[3549 rows x 38 columns]"
      ]
     },
     "execution_count": 8,
     "metadata": {},
     "output_type": "execute_result"
    }
   ],
   "source": [
    "df = SINAN.download('SP',2018,'Chikungunya')\n",
    "df"
   ]
  },
  {
   "cell_type": "markdown",
   "metadata": {
    "cell_style": "split"
   },
   "source": [
    "As we can see there were 3549 cases of Chikungunya reported in the state of São Paulo, in 2018. If we index our dataframe by the date of first symptoms, we can then plot the series."
   ]
  },
  {
   "cell_type": "code",
   "execution_count": 24,
   "metadata": {
    "ExecuteTime": {
     "end_time": "2021-09-24T08:25:05.921405Z",
     "start_time": "2021-09-24T08:25:05.904030Z"
    }
   },
   "outputs": [],
   "source": [
    "df['date'] = pd.to_datetime(df.DT_SIN_PRI)\n",
    "df.set_index('date', inplace=True)\n",
    "df.sort_index(inplace=True)"
   ]
  },
  {
   "cell_type": "code",
   "execution_count": 25,
   "metadata": {
    "ExecuteTime": {
     "end_time": "2021-09-24T08:25:08.807776Z",
     "start_time": "2021-09-24T08:25:08.768739Z"
    }
   },
   "outputs": [
    {
     "name": "stdout",
     "output_type": "stream",
     "text": [
      "<class 'pandas.core.frame.DataFrame'>\n",
      "DatetimeIndex: 3549 entries, 1944-10-17 to 2018-12-28\n",
      "Data columns (total 38 columns):\n",
      " #   Column      Non-Null Count  Dtype \n",
      "---  ------      --------------  ----- \n",
      " 0   TP_NOT      3549 non-null   object\n",
      " 1   ID_AGRAVO   3549 non-null   object\n",
      " 2   CS_SUSPEIT  3549 non-null   object\n",
      " 3   DT_NOTIFIC  3549 non-null   object\n",
      " 4   SEM_NOT     3549 non-null   object\n",
      " 5   NU_ANO      3549 non-null   object\n",
      " 6   SG_UF_NOT   3549 non-null   object\n",
      " 7   ID_MUNICIP  3549 non-null   object\n",
      " 8   ID_REGIONA  3549 non-null   object\n",
      " 9   DT_SIN_PRI  3549 non-null   object\n",
      " 10  SEM_PRI     3549 non-null   object\n",
      " 11  NU_IDADE_N  3549 non-null   int64 \n",
      " 12  CS_SEXO     3549 non-null   object\n",
      " 13  CS_GESTANT  3549 non-null   object\n",
      " 14  CS_RACA     3549 non-null   object\n",
      " 15  CS_ESCOL_N  3549 non-null   object\n",
      " 16  SG_UF       3549 non-null   object\n",
      " 17  ID_MN_RESI  3549 non-null   object\n",
      " 18  ID_RG_RESI  3549 non-null   object\n",
      " 19  ID_PAIS     3549 non-null   object\n",
      " 20  NDUPLIC_N   3549 non-null   object\n",
      " 21  IN_VINCULA  3549 non-null   object\n",
      " 22  DT_INVEST   3480 non-null   object\n",
      " 23  ID_OCUPA_N  3549 non-null   object\n",
      " 24  CLASSI_FIN  3549 non-null   object\n",
      " 25  CRITERIO    3549 non-null   object\n",
      " 26  TPAUTOCTO   3549 non-null   object\n",
      " 27  COUFINF     3549 non-null   object\n",
      " 28  COPAISINF   3549 non-null   object\n",
      " 29  COMUNINF    3549 non-null   object\n",
      " 30  DOENCA_TRA  3549 non-null   object\n",
      " 31  EVOLUCAO    3549 non-null   object\n",
      " 32  DT_OBITO    66 non-null     object\n",
      " 33  DT_ENCERRA  3278 non-null   object\n",
      " 34  CS_FLXRET   3549 non-null   object\n",
      " 35  FLXRECEBI   3549 non-null   object\n",
      " 36  TP_SISTEMA  3549 non-null   object\n",
      " 37  TPUNINOT    3549 non-null   object\n",
      "dtypes: int64(1), object(37)\n",
      "memory usage: 1.1+ MB\n"
     ]
    }
   ],
   "source": [
    "df.info()"
   ]
  },
  {
   "cell_type": "code",
   "execution_count": 29,
   "metadata": {
    "ExecuteTime": {
     "end_time": "2021-09-24T08:27:25.427574Z",
     "start_time": "2021-09-24T08:27:25.147937Z"
    }
   },
   "outputs": [
    {
     "data": {
      "text/plain": [
       "<AxesSubplot:xlabel='date'>"
      ]
     },
     "execution_count": 29,
     "metadata": {},
     "output_type": "execute_result"
    },
    {
     "data": {
      "image/png": "[encoded data removed]",
      "text/plain": [
       "<Figure size 1080x576 with 1 Axes>"
      ]
     },
     "metadata": {
      "needs_background": "light"
     },
     "output_type": "display_data"
    }
   ],
   "source": [
    "df['2018-01-01':].resample('W').count().ID_AGRAVO.plot(figsize=(15,8));"
   ]
  },
  {
   "cell_type": "markdown",
   "metadata": {
    "ExecuteTime": {
     "end_time": "2021-09-24T08:24:22.034416Z",
     "start_time": "2021-09-24T08:24:22.003380Z"
    }
   },
   "source": [
    "As expected with other mosquito-borne diseases, incidence is higher in the summer. The sudden drop at the end is due to the the cases with first symptoms in the second half of december, where reported in 2019."
   ]
  },
  {
   "cell_type": "code",
   "execution_count": null,
   "metadata": {},
   "outputs": [],
   "source": []
  }
 ],
 "metadata": {
  "hide_input": false,
  "kernelspec": {
   "display_name": "Python 3",
   "language": "python",
   "name": "python3"
  },
  "language_info": {
   "codemirror_mode": {
    "name": "ipython",
    "version": 3
   },
   "file_extension": ".py",
   "mimetype": "text/x-python",
   "name": "python",
   "nbconvert_exporter": "python",
   "pygments_lexer": "ipython3",
   "version": "3.8.10"
  },
  "latex_envs": {
   "LaTeX_envs_menu_present": true,
   "autoclose": false,
   "autocomplete": true,
   "bibliofile": "biblio.bib",
   "cite_by": "apalike",
   "current_citInitial": 1,
   "eqLabelWithNumbers": true,
   "eqNumInitial": 1,
   "hotkeys": {
    "equation": "Ctrl-E",
    "itemize": "Ctrl-I"
   },
   "labels_anchors": false,
   "latex_user_defs": false,
   "report_style_numbering": false,
   "user_envs_cfg": false
  },
  "nbTranslate": {
   "displayLangs": [
    "*"
   ],
   "hotkey": "alt-t",
   "langInMainMenu": true,
   "sourceLang": "en",
   "targetLang": "fr",
   "useGoogleTranslate": true
  },
  "toc": {
   "base_numbering": 1,
   "nav_menu": {},
   "number_sections": true,
   "sideBar": true,
   "skip_h1_title": false,
   "title_cell": "Table of Contents",
   "title_sidebar": "Contents",
   "toc_cell": false,
   "toc_position": {},
   "toc_section_display": true,
   "toc_window_display": false
  },
  "varInspector": {
   "cols": {
    "lenName": 16,
    "lenType": 16,
    "lenVar": 40
   },
   "kernels_config": {
    "python": {
     "delete_cmd_postfix": "",
     "delete_cmd_prefix": "del ",
     "library": "var_list.py",
     "varRefreshCmd": "print(var_dic_list())"
    },
    "r": {
     "delete_cmd_postfix": ") ",
     "delete_cmd_prefix": "rm(",
     "library": "var_list.r",
     "varRefreshCmd": "cat(var_dic_list()) "
    }
   },
   "types_to_exclude": [
    "module",
    "function",
    "builtin_function_or_method",
    "instance",
    "_Feature"
   ],
   "window_display": false
  }
 },
 "nbformat": 4,
 "nbformat_minor": 1
}