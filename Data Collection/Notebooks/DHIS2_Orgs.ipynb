{
 "cells": [
  {
   "cell_type": "markdown",
   "metadata": {
    "collapsed": true
   },
   "source": [
    "# Listing Organisational units from DHIS2\n",
    "In DHIS2 the location of the data, the geographical context, is represented as [organisational units](https://docs.dhis2.org/en/implement/understanding-dhis2-implementation/organisation-units.html#:~:text=In%20DHIS2%20the%20location%20of,(e.g.%20a%20health%20district).). Organisational units can be either a health facility or department/sub-unit providing services or an administrative unit representing a geographical area (e.g. a health district).\n",
    "\n",
    "This example was based on an example from the `dhis2.py` library."
   ]
  },
  {
   "cell_type": "code",
   "execution_count": 12,
   "metadata": {
    "ExecuteTime": {
     "end_time": "2021-08-09T16:32:51.055300Z",
     "start_time": "2021-08-09T16:32:51.050767Z"
    }
   },
   "outputs": [],
   "source": [
    "from datetime import datetime\n",
    "from dhis2 import Api, setup_logger, logger\n",
    "import pandas as pd"
   ]
  },
  {
   "cell_type": "code",
   "execution_count": 2,
   "metadata": {
    "ExecuteTime": {
     "end_time": "2021-08-09T16:20:23.169889Z",
     "start_time": "2021-08-09T16:20:23.167178Z"
    }
   },
   "outputs": [],
   "source": [
    "# Create a Api object\n",
    "api = Api(\"play.dhis2.org/dev\", \"admin\", \"district\")"
   ]
  },
  {
   "cell_type": "code",
   "execution_count": 3,
   "metadata": {
    "ExecuteTime": {
     "end_time": "2021-08-09T16:20:30.995051Z",
     "start_time": "2021-08-09T16:20:30.988719Z"
    }
   },
   "outputs": [],
   "source": [
    "# setup the logger\n",
    "setup_logger()"
   ]
  },
  {
   "cell_type": "code",
   "execution_count": 4,
   "metadata": {
    "ExecuteTime": {
     "end_time": "2021-08-09T16:20:41.729389Z",
     "start_time": "2021-08-09T16:20:41.716865Z"
    }
   },
   "outputs": [],
   "source": [
    "def check_opening_date(org_unit):\n",
    "    ou_name = org_unit[\"name\"]\n",
    "    ou_uid = org_unit[\"id\"]\n",
    "    ou_opening_date = org_unit[\"openingDate\"][:-13]\n",
    "\n",
    "    # parse the opening date to a Python date\n",
    "    opening_date = datetime.strptime(ou_opening_date, \"%Y-%m-%d\")\n",
    "\n",
    "    msg = \"Organisation Unit '{}' ({}) was opened {} 1990-01-01 on {}\"\n",
    "\n",
    "    # compare date and print message\n",
    "    if opening_date > datetime(year=1990, month=1, day=1):\n",
    "        logger.warn(msg.format(ou_name, ou_uid, \"AFTER\", ou_opening_date))\n",
    "    else:\n",
    "        logger.debug(msg.format(ou_name, ou_uid, \"BEFORE\", ou_opening_date))"
   ]
  },
  {
   "cell_type": "code",
   "execution_count": 13,
   "metadata": {
    "ExecuteTime": {
     "end_time": "2021-08-09T16:33:07.518913Z",
     "start_time": "2021-08-09T16:33:07.512568Z"
    }
   },
   "outputs": [],
   "source": [
    "def main():\n",
    "    '''\n",
    "    get 50 organisation units per call to the API\n",
    "    '''\n",
    "    ous = []\n",
    "    for page in api.get_paged(\n",
    "        \"organisationUnits\", params={\"fields\": \"id,name,openingDate\"}\n",
    "    ):\n",
    "\n",
    "        # loop through the organisation units received\n",
    "        for ou in page[\"organisationUnits\"]:\n",
    "            ous.append(ou)\n",
    "#             check_opening_date(ou)\n",
    "    oudf = pd.DataFrame(ous)\n",
    "    return oudf"
   ]
  },
  {
   "cell_type": "code",
   "execution_count": 14,
   "metadata": {
    "ExecuteTime": {
     "end_time": "2021-08-09T16:33:22.540261Z",
     "start_time": "2021-08-09T16:33:13.952810Z"
    }
   },
   "outputs": [
    {
     "data": {
      "text/html": [
       "<div>\n",
       "<style scoped>\n",
       "    .dataframe tbody tr th:only-of-type {\n",
       "        vertical-align: middle;\n",
       "    }\n",
       "\n",
       "    .dataframe tbody tr th {\n",
       "        vertical-align: top;\n",
       "    }\n",
       "\n",
       "    .dataframe thead th {\n",
       "        text-align: right;\n",
       "    }\n",
       "</style>\n",
       "<table border=\"1\" class=\"dataframe\">\n",
       "  <thead>\n",
       "    <tr style=\"text-align: right;\">\n",
       "      <th></th>\n",
       "      <th>name</th>\n",
       "      <th>id</th>\n",
       "      <th>openingDate</th>\n",
       "    </tr>\n",
       "  </thead>\n",
       "  <tbody>\n",
       "    <tr>\n",
       "      <th>0</th>\n",
       "      <td>Adonkia CHP</td>\n",
       "      <td>Rp268JB6Ne4</td>\n",
       "      <td>2010-01-01T00:00:00.000</td>\n",
       "    </tr>\n",
       "    <tr>\n",
       "      <th>1</th>\n",
       "      <td>Afro Arab Clinic</td>\n",
       "      <td>cDw53Ej8rju</td>\n",
       "      <td>2008-01-01T00:00:00.000</td>\n",
       "    </tr>\n",
       "    <tr>\n",
       "      <th>2</th>\n",
       "      <td>Agape CHP</td>\n",
       "      <td>GvFqTavdpGE</td>\n",
       "      <td>2010-01-01T00:00:00.000</td>\n",
       "    </tr>\n",
       "    <tr>\n",
       "      <th>3</th>\n",
       "      <td>Ahamadyya Mission Cl</td>\n",
       "      <td>plnHVbJR6p4</td>\n",
       "      <td>1970-01-01T00:00:00.000</td>\n",
       "    </tr>\n",
       "    <tr>\n",
       "      <th>4</th>\n",
       "      <td>Ahmadiyya Muslim Hospital</td>\n",
       "      <td>BV4IomHvri4</td>\n",
       "      <td>1970-01-01T00:00:00.000</td>\n",
       "    </tr>\n",
       "    <tr>\n",
       "      <th>...</th>\n",
       "      <td>...</td>\n",
       "      <td>...</td>\n",
       "      <td>...</td>\n",
       "    </tr>\n",
       "    <tr>\n",
       "      <th>1328</th>\n",
       "      <td>Yormandu CHC</td>\n",
       "      <td>roGdTjEqLZQ</td>\n",
       "      <td>1970-01-01T00:00:00.000</td>\n",
       "    </tr>\n",
       "    <tr>\n",
       "      <th>1329</th>\n",
       "      <td>Youndu CHP</td>\n",
       "      <td>hDW65lFySeF</td>\n",
       "      <td>1994-01-01T00:00:00.000</td>\n",
       "    </tr>\n",
       "    <tr>\n",
       "      <th>1330</th>\n",
       "      <td>Yoyah CHP</td>\n",
       "      <td>Urk55T8KgpT</td>\n",
       "      <td>2009-08-01T00:00:00.000</td>\n",
       "    </tr>\n",
       "    <tr>\n",
       "      <th>1331</th>\n",
       "      <td>Yoyema MCHP</td>\n",
       "      <td>VdXuxcNkiad</td>\n",
       "      <td>1970-01-01T00:00:00.000</td>\n",
       "    </tr>\n",
       "    <tr>\n",
       "      <th>1332</th>\n",
       "      <td>Zimmi CHC</td>\n",
       "      <td>BNFrspDBKel</td>\n",
       "      <td>1970-01-01T00:00:00.000</td>\n",
       "    </tr>\n",
       "  </tbody>\n",
       "</table>\n",
       "<p>1333 rows × 3 columns</p>\n",
       "</div>"
      ],
      "text/plain": [
       "                           name           id              openingDate\n",
       "0                   Adonkia CHP  Rp268JB6Ne4  2010-01-01T00:00:00.000\n",
       "1              Afro Arab Clinic  cDw53Ej8rju  2008-01-01T00:00:00.000\n",
       "2                     Agape CHP  GvFqTavdpGE  2010-01-01T00:00:00.000\n",
       "3          Ahamadyya Mission Cl  plnHVbJR6p4  1970-01-01T00:00:00.000\n",
       "4     Ahmadiyya Muslim Hospital  BV4IomHvri4  1970-01-01T00:00:00.000\n",
       "...                         ...          ...                      ...\n",
       "1328               Yormandu CHC  roGdTjEqLZQ  1970-01-01T00:00:00.000\n",
       "1329                 Youndu CHP  hDW65lFySeF  1994-01-01T00:00:00.000\n",
       "1330                  Yoyah CHP  Urk55T8KgpT  2009-08-01T00:00:00.000\n",
       "1331                Yoyema MCHP  VdXuxcNkiad  1970-01-01T00:00:00.000\n",
       "1332                  Zimmi CHC  BNFrspDBKel  1970-01-01T00:00:00.000\n",
       "\n",
       "[1333 rows x 3 columns]"
      ]
     },
     "execution_count": 14,
     "metadata": {},
     "output_type": "execute_result"
    }
   ],
   "source": [
    "main()"
   ]
  },
  {
   "cell_type": "code",
   "execution_count": null,
   "metadata": {},
   "outputs": [],
   "source": []
  }
 ],
 "metadata": {
  "hide_input": false,
  "kernelspec": {
   "display_name": "Python 3",
   "language": "python",
   "name": "python3"
  },
  "language_info": {
   "codemirror_mode": {
    "name": "ipython",
    "version": 3
   },
   "file_extension": ".py",
   "mimetype": "text/x-python",
   "name": "python",
   "nbconvert_exporter": "python",
   "pygments_lexer": "ipython3",
   "version": "3.8.10"
  },
  "latex_envs": {
   "LaTeX_envs_menu_present": true,
   "autoclose": false,
   "autocomplete": true,
   "bibliofile": "biblio.bib",
   "cite_by": "apalike",
   "current_citInitial": 1,
   "eqLabelWithNumbers": true,
   "eqNumInitial": 1,
   "hotkeys": {
    "equation": "Ctrl-E",
    "itemize": "Ctrl-I"
   },
   "labels_anchors": false,
   "latex_user_defs": false,
   "report_style_numbering": false,
   "user_envs_cfg": false
  },
  "nbTranslate": {
   "displayLangs": [
    "*"
   ],
   "hotkey": "alt-t",
   "langInMainMenu": true,
   "sourceLang": "en",
   "targetLang": "fr",
   "useGoogleTranslate": true
  },
  "toc": {
   "base_numbering": 1,
   "nav_menu": {},
   "number_sections": true,
   "sideBar": true,
   "skip_h1_title": false,
   "title_cell": "Table of Contents",
   "title_sidebar": "Contents",
   "toc_cell": false,
   "toc_position": {},
   "toc_section_display": true,
   "toc_window_display": false
  },
  "varInspector": {
   "cols": {
    "lenName": 16,
    "lenType": 16,
    "lenVar": 40
   },
   "kernels_config": {
    "python": {
     "delete_cmd_postfix": "",
     "delete_cmd_prefix": "del ",
     "library": "var_list.py",
     "varRefreshCmd": "print(var_dic_list())"
    },
    "r": {
     "delete_cmd_postfix": ") ",
     "delete_cmd_prefix": "rm(",
     "library": "var_list.r",
     "varRefreshCmd": "cat(var_dic_list()) "
    }
   },
   "types_to_exclude": [
    "module",
    "function",
    "builtin_function_or_method",
    "instance",
    "_Feature"
   ],
   "window_display": false
  }
 },
 "nbformat": 4,
 "nbformat_minor": 1
}
