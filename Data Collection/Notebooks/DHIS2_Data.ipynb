{
 "cells": [
  {
   "cell_type": "markdown",
   "id": "2d9c7798",
   "metadata": {},
   "source": [
    "# Fetching data from DHIS2"
   ]
  },
  {
   "cell_type": "code",
   "execution_count": 5,
   "id": "38f8f79e",
   "metadata": {
    "ExecuteTime": {
     "end_time": "2021-08-09T17:07:59.528800Z",
     "start_time": "2021-08-09T17:07:59.521713Z"
    }
   },
   "outputs": [],
   "source": [
    "from dhis2 import Api, load_csv, load_json\n",
    "import pandas as pd"
   ]
  },
  {
   "cell_type": "code",
   "execution_count": 49,
   "id": "1a76bbdc",
   "metadata": {
    "ExecuteTime": {
     "end_time": "2021-08-09T17:55:02.835644Z",
     "start_time": "2021-08-09T17:55:01.101610Z"
    }
   },
   "outputs": [
    {
     "data": {
      "text/plain": [
       "{'contextPath': 'https://play.dhis2.org/dev',\n",
       " 'userAgent': 'python-requests/2.25.1',\n",
       " 'calendar': 'iso8601',\n",
       " 'dateFormat': 'yyyy-mm-dd',\n",
       " 'serverDate': '2021-08-09T17:55:02.748',\n",
       " 'serverTimeZoneId': 'Etc/UTC',\n",
       " 'serverTimeZoneDisplayName': 'Coordinated Universal Time',\n",
       " 'lastAnalyticsTableSuccess': '2021-08-09T08:52:14.602',\n",
       " 'intervalSinceLastAnalyticsTableSuccess': '9 h, 2 m, 48 s',\n",
       " 'lastAnalyticsTableRuntime': '172789',\n",
       " 'lastSystemMonitoringSuccess': '2019-03-26T17:07:15.418',\n",
       " 'version': '2.37-SNAPSHOT',\n",
       " 'revision': '3cd4c25',\n",
       " 'buildTime': '2021-08-09T16:45:33.000',\n",
       " 'jasperReportsVersion': '6.3.1',\n",
       " 'environmentVariable': 'DHIS2_HOME',\n",
       " 'databaseInfo': {'spatialSupport': True},\n",
       " 'encryption': False,\n",
       " 'emailConfigured': False,\n",
       " 'redisEnabled': False,\n",
       " 'systemId': 'eed3d451-4ff5-4193-b951-ffcc68954299',\n",
       " 'systemName': 'DHIS 2 Demo - Sierra Leone',\n",
       " 'instanceBaseUrl': 'https://play.dhis2.org/dev',\n",
       " 'clusterHostname': '',\n",
       " 'isMetadataVersionEnabled': True,\n",
       " 'metadataSyncEnabled': False}"
      ]
     },
     "execution_count": 49,
     "metadata": {},
     "output_type": "execute_result"
    }
   ],
   "source": [
    "# Create a Api object\n",
    "api = Api(\"play.dhis2.org/dev\", \"admin\", \"district\")\n",
    "api.info"
   ]
  },
  {
   "cell_type": "code",
   "execution_count": 13,
   "id": "be5cdfee",
   "metadata": {
    "ExecuteTime": {
     "end_time": "2021-08-09T17:13:03.243188Z",
     "start_time": "2021-08-09T17:12:58.173254Z"
    }
   },
   "outputs": [],
   "source": [
    "r = api.get('dataValueSets', params={\n",
    "    'dataSet': ['pBOMPrpg1QX', 'BfMAe6Itzgt'],\n",
    "    'orgUnit': ['YuQRtpLP10I', 'vWbkYPRmKyS'],\n",
    "    'startDate': '2013-01-01',\n",
    "    'endDate': '2013-12-31'\n",
    "})"
   ]
  },
  {
   "cell_type": "code",
   "execution_count": 16,
   "id": "01ac74c3",
   "metadata": {
    "ExecuteTime": {
     "end_time": "2021-08-09T17:13:20.393120Z",
     "start_time": "2021-08-09T17:13:20.382931Z"
    }
   },
   "outputs": [
    {
     "data": {
      "text/plain": [
       "'{}'"
      ]
     },
     "execution_count": 16,
     "metadata": {},
     "output_type": "execute_result"
    }
   ],
   "source": [
    "r.text"
   ]
  },
  {
   "cell_type": "markdown",
   "id": "ee0039b1",
   "metadata": {},
   "source": [
    "Now we fetch a dataset report following [this documentation](https://docs.dhis2.org/en/develop/using-the-api/dhis-core-version-235/web-api.html#webapi_data_set_report)."
   ]
  },
  {
   "cell_type": "code",
   "execution_count": 31,
   "id": "358e5449",
   "metadata": {
    "ExecuteTime": {
     "end_time": "2021-08-09T17:33:48.998917Z",
     "start_time": "2021-08-09T17:33:47.688247Z"
    }
   },
   "outputs": [
    {
     "data": {
      "text/html": [
       "<div>\n",
       "<style scoped>\n",
       "    .dataframe tbody tr th:only-of-type {\n",
       "        vertical-align: middle;\n",
       "    }\n",
       "\n",
       "    .dataframe tbody tr th {\n",
       "        vertical-align: top;\n",
       "    }\n",
       "\n",
       "    .dataframe thead th {\n",
       "        text-align: right;\n",
       "    }\n",
       "</style>\n",
       "<table border=\"1\" class=\"dataframe\">\n",
       "  <thead>\n",
       "    <tr style=\"text-align: right;\">\n",
       "      <th></th>\n",
       "      <th>title</th>\n",
       "      <th>subtitle</th>\n",
       "      <th>headers</th>\n",
       "      <th>metaData</th>\n",
       "      <th>rows</th>\n",
       "      <th>height</th>\n",
       "      <th>width</th>\n",
       "      <th>headerWidth</th>\n",
       "    </tr>\n",
       "  </thead>\n",
       "  <tbody>\n",
       "    <tr>\n",
       "      <th>0</th>\n",
       "      <td>Immunization Location and age group</td>\n",
       "      <td>Sierra Leone January 2010</td>\n",
       "      <td>[{'name': 'Data element', 'column': 'Data elem...</td>\n",
       "      <td>{}</td>\n",
       "      <td>[[BCG doses given, None, None, None, None, Non...</td>\n",
       "      <td>15</td>\n",
       "      <td>10</td>\n",
       "      <td>10</td>\n",
       "    </tr>\n",
       "    <tr>\n",
       "      <th>1</th>\n",
       "      <td>Nutrition Location and age group</td>\n",
       "      <td>Sierra Leone January 2010</td>\n",
       "      <td>[{'name': 'Data element', 'column': 'Data elem...</td>\n",
       "      <td>{}</td>\n",
       "      <td>[[Children getting therapeutic feeding, None, ...</td>\n",
       "      <td>16</td>\n",
       "      <td>10</td>\n",
       "      <td>10</td>\n",
       "    </tr>\n",
       "  </tbody>\n",
       "</table>\n",
       "</div>"
      ],
      "text/plain": [
       "                                 title                   subtitle  \\\n",
       "0  Immunization Location and age group  Sierra Leone January 2010   \n",
       "1     Nutrition Location and age group  Sierra Leone January 2010   \n",
       "\n",
       "                                             headers metaData  \\\n",
       "0  [{'name': 'Data element', 'column': 'Data elem...       {}   \n",
       "1  [{'name': 'Data element', 'column': 'Data elem...       {}   \n",
       "\n",
       "                                                rows  height  width  \\\n",
       "0  [[BCG doses given, None, None, None, None, Non...      15     10   \n",
       "1  [[Children getting therapeutic feeding, None, ...      16     10   \n",
       "\n",
       "   headerWidth  \n",
       "0           10  \n",
       "1           10  "
      ]
     },
     "execution_count": 31,
     "metadata": {},
     "output_type": "execute_result"
    }
   ],
   "source": [
    "r=api.get('33/dataSetReport',params={'ds':'BfMAe6Itzgt',\n",
    "                                    'pe':'201001',\n",
    "                                    'ou':'ImspTQPwCqd', \n",
    "                                    'selectedUnitOnly':'false'})\n",
    "pd.DataFrame(r.json())"
   ]
  },
  {
   "cell_type": "markdown",
   "id": "aa4f45d7",
   "metadata": {},
   "source": [
    "## OrgUnit Analytics\n",
    "example from [here](https://docs.dhis2.org/en/develop/using-the-api/dhis-core-version-235/web-api.html#examples)"
   ]
  },
  {
   "cell_type": "code",
   "execution_count": 55,
   "id": "c2872aa9",
   "metadata": {
    "ExecuteTime": {
     "end_time": "2021-08-09T18:04:16.259931Z",
     "start_time": "2021-08-09T18:04:15.968943Z"
    }
   },
   "outputs": [
    {
     "data": {
      "text/html": [
       "<div>\n",
       "<style scoped>\n",
       "    .dataframe tbody tr th:only-of-type {\n",
       "        vertical-align: middle;\n",
       "    }\n",
       "\n",
       "    .dataframe tbody tr th {\n",
       "        vertical-align: top;\n",
       "    }\n",
       "\n",
       "    .dataframe thead th {\n",
       "        text-align: right;\n",
       "    }\n",
       "</style>\n",
       "<table border=\"1\" class=\"dataframe\">\n",
       "  <thead>\n",
       "    <tr style=\"text-align: right;\">\n",
       "      <th></th>\n",
       "      <th>ou</th>\n",
       "      <th>chc</th>\n",
       "      <th>hospital</th>\n",
       "      <th>clinic</th>\n",
       "      <th>chp</th>\n",
       "      <th>mchp</th>\n",
       "    </tr>\n",
       "  </thead>\n",
       "  <tbody>\n",
       "    <tr>\n",
       "      <th>0</th>\n",
       "      <td>Bombali</td>\n",
       "      <td>17</td>\n",
       "      <td>3</td>\n",
       "      <td>4</td>\n",
       "      <td>21</td>\n",
       "      <td>53</td>\n",
       "    </tr>\n",
       "    <tr>\n",
       "      <th>1</th>\n",
       "      <td>Kambia</td>\n",
       "      <td>6</td>\n",
       "      <td></td>\n",
       "      <td>2</td>\n",
       "      <td>11</td>\n",
       "      <td>37</td>\n",
       "    </tr>\n",
       "    <tr>\n",
       "      <th>2</th>\n",
       "      <td>Bonthe</td>\n",
       "      <td>11</td>\n",
       "      <td>2</td>\n",
       "      <td>4</td>\n",
       "      <td>15</td>\n",
       "      <td>21</td>\n",
       "    </tr>\n",
       "    <tr>\n",
       "      <th>3</th>\n",
       "      <td>Kailahun</td>\n",
       "      <td>13</td>\n",
       "      <td>2</td>\n",
       "      <td>1</td>\n",
       "      <td>37</td>\n",
       "      <td>22</td>\n",
       "    </tr>\n",
       "  </tbody>\n",
       "</table>\n",
       "</div>"
      ],
      "text/plain": [
       "         ou chc hospital clinic chp mchp\n",
       "0   Bombali  17        3      4  21   53\n",
       "1    Kambia   6               2  11   37\n",
       "2    Bonthe  11        2      4  15   21\n",
       "3  Kailahun  13        2      1  37   22"
      ]
     },
     "execution_count": 55,
     "metadata": {},
     "output_type": "execute_result"
    }
   ],
   "source": [
    "r = api.get('orgUnitAnalytics', params={\n",
    "    'ou': 'fdc6uOvgoji;jUb8gELQApl;lc3eMKXaEfw;PMa2VCrupOd',\n",
    "    'ougs': 'J5jldMd8OHv',\n",
    "    'columns': 'J5jldMd8OHv'\n",
    "})\n",
    "# pd.DataFrame(r.json())\n",
    "data = r.json()\n",
    "df = pd.DataFrame(data = data['rows'], columns=[h['name'] for h in data['headers']])\n",
    "df"
   ]
  },
  {
   "cell_type": "markdown",
   "id": "d4952855",
   "metadata": {},
   "source": [
    "## Getting geospatial features\n",
    "You can [retrieve geospatial information](https://docs.dhis2.org/en/develop/using-the-api/dhis-core-version-235/web-api.html#webapi_geospatial_features) from DHIS2. Geospatial features are stored together with organisation units."
   ]
  },
  {
   "cell_type": "code",
   "execution_count": 32,
   "id": "91218310",
   "metadata": {
    "ExecuteTime": {
     "end_time": "2021-08-09T17:38:25.869190Z",
     "start_time": "2021-08-09T17:38:25.669861Z"
    }
   },
   "outputs": [
    {
     "name": "stderr",
     "output_type": "stream",
     "text": [
      "/home/fccoelho/.local/lib/python3.8/site-packages/geopandas/_compat.py:106: UserWarning: The Shapely GEOS version (3.8.0-CAPI-1.13.1 ) is incompatible with the GEOS version PyGEOS was compiled with (3.9.1-CAPI-1.14.2). Conversions between both will be slow.\n",
      "  warnings.warn(\n"
     ]
    }
   ],
   "source": [
    "import geopandas as gpd"
   ]
  },
  {
   "cell_type": "code",
   "execution_count": 35,
   "id": "efc4c783",
   "metadata": {
    "ExecuteTime": {
     "end_time": "2021-08-09T17:42:20.286951Z",
     "start_time": "2021-08-09T17:42:19.953264Z"
    }
   },
   "outputs": [
    {
     "data": {
      "text/html": [
       "<div>\n",
       "<style scoped>\n",
       "    .dataframe tbody tr th:only-of-type {\n",
       "        vertical-align: middle;\n",
       "    }\n",
       "\n",
       "    .dataframe tbody tr th {\n",
       "        vertical-align: top;\n",
       "    }\n",
       "\n",
       "    .dataframe thead th {\n",
       "        text-align: right;\n",
       "    }\n",
       "</style>\n",
       "<table border=\"1\" class=\"dataframe\">\n",
       "  <thead>\n",
       "    <tr style=\"text-align: right;\">\n",
       "      <th></th>\n",
       "      <th>id</th>\n",
       "      <th>displayName</th>\n",
       "    </tr>\n",
       "  </thead>\n",
       "  <tbody>\n",
       "    <tr>\n",
       "      <th>0</th>\n",
       "      <td>ueuQlqb8ccl</td>\n",
       "      <td>Panderu MCHP</td>\n",
       "    </tr>\n",
       "    <tr>\n",
       "      <th>1</th>\n",
       "      <td>Rp268JB6Ne4</td>\n",
       "      <td>Adonkia CHP</td>\n",
       "    </tr>\n",
       "    <tr>\n",
       "      <th>2</th>\n",
       "      <td>cDw53Ej8rju</td>\n",
       "      <td>Afro Arab Clinic</td>\n",
       "    </tr>\n",
       "    <tr>\n",
       "      <th>3</th>\n",
       "      <td>GvFqTavdpGE</td>\n",
       "      <td>Agape CHP</td>\n",
       "    </tr>\n",
       "    <tr>\n",
       "      <th>4</th>\n",
       "      <td>plnHVbJR6p4</td>\n",
       "      <td>Ahamadyya Mission Cl</td>\n",
       "    </tr>\n",
       "    <tr>\n",
       "      <th>5</th>\n",
       "      <td>BV4IomHvri4</td>\n",
       "      <td>Ahmadiyya Muslim Hospital</td>\n",
       "    </tr>\n",
       "    <tr>\n",
       "      <th>6</th>\n",
       "      <td>qjboFI0irVu</td>\n",
       "      <td>Air Port Centre, Lungi</td>\n",
       "    </tr>\n",
       "    <tr>\n",
       "      <th>7</th>\n",
       "      <td>dWOAzMcK2Wt</td>\n",
       "      <td>Alkalia CHP</td>\n",
       "    </tr>\n",
       "    <tr>\n",
       "      <th>8</th>\n",
       "      <td>kbGqmM6ZWWV</td>\n",
       "      <td>Allen Town Health Post</td>\n",
       "    </tr>\n",
       "    <tr>\n",
       "      <th>9</th>\n",
       "      <td>eoYV2p74eVz</td>\n",
       "      <td>Approved School CHP</td>\n",
       "    </tr>\n",
       "    <tr>\n",
       "      <th>10</th>\n",
       "      <td>nq7F0t1Pz6t</td>\n",
       "      <td>Arab Clinic</td>\n",
       "    </tr>\n",
       "    <tr>\n",
       "      <th>11</th>\n",
       "      <td>r5WWF9WDzoa</td>\n",
       "      <td>Baama CHC</td>\n",
       "    </tr>\n",
       "    <tr>\n",
       "      <th>12</th>\n",
       "      <td>yMCshbaVExv</td>\n",
       "      <td>Babara CHC</td>\n",
       "    </tr>\n",
       "    <tr>\n",
       "      <th>13</th>\n",
       "      <td>tlMeFk8C4CG</td>\n",
       "      <td>Badala MCHP</td>\n",
       "    </tr>\n",
       "    <tr>\n",
       "      <th>14</th>\n",
       "      <td>Jiymtq0A01x</td>\n",
       "      <td>Bafodia CHC</td>\n",
       "    </tr>\n",
       "    <tr>\n",
       "      <th>15</th>\n",
       "      <td>BH7rDkWjUqc</td>\n",
       "      <td>Bai Bureh Memorial Hospital</td>\n",
       "    </tr>\n",
       "    <tr>\n",
       "      <th>16</th>\n",
       "      <td>Rll4VmTDRiE</td>\n",
       "      <td>Bai Largo MCHP</td>\n",
       "    </tr>\n",
       "    <tr>\n",
       "      <th>17</th>\n",
       "      <td>XtuhRhmbrJM</td>\n",
       "      <td>Baiama CHP</td>\n",
       "    </tr>\n",
       "    <tr>\n",
       "      <th>18</th>\n",
       "      <td>c41XRVOYNJm</td>\n",
       "      <td>Baiima CHP</td>\n",
       "    </tr>\n",
       "    <tr>\n",
       "      <th>19</th>\n",
       "      <td>Eyj2kiEJ7M3</td>\n",
       "      <td>Bailor CHP</td>\n",
       "    </tr>\n",
       "    <tr>\n",
       "      <th>20</th>\n",
       "      <td>HFyjUvMjQ8H</td>\n",
       "      <td>Baiwala CHP</td>\n",
       "    </tr>\n",
       "    <tr>\n",
       "      <th>21</th>\n",
       "      <td>MHAWZr2Caxw</td>\n",
       "      <td>Bakeloko CHP</td>\n",
       "    </tr>\n",
       "    <tr>\n",
       "      <th>22</th>\n",
       "      <td>LOpWauwwghf</td>\n",
       "      <td>Bambara Kaima CHP</td>\n",
       "    </tr>\n",
       "    <tr>\n",
       "      <th>23</th>\n",
       "      <td>mUuCjQWMaOc</td>\n",
       "      <td>Bambara MCHP</td>\n",
       "    </tr>\n",
       "    <tr>\n",
       "      <th>24</th>\n",
       "      <td>TNbHYOuQi8s</td>\n",
       "      <td>Bambawolo CHP</td>\n",
       "    </tr>\n",
       "    <tr>\n",
       "      <th>25</th>\n",
       "      <td>aSfF9kuNINJ</td>\n",
       "      <td>Bambuibu Tommy MCHP</td>\n",
       "    </tr>\n",
       "    <tr>\n",
       "      <th>26</th>\n",
       "      <td>wYLjA4vN6Y9</td>\n",
       "      <td>Bambukoro MCHP</td>\n",
       "    </tr>\n",
       "    <tr>\n",
       "      <th>27</th>\n",
       "      <td>jjtzkzrmG7s</td>\n",
       "      <td>Banana Island MCHP</td>\n",
       "    </tr>\n",
       "    <tr>\n",
       "      <th>28</th>\n",
       "      <td>FNnj3jKGS7i</td>\n",
       "      <td>Bandajuma Clinic CHC</td>\n",
       "    </tr>\n",
       "    <tr>\n",
       "      <th>29</th>\n",
       "      <td>ABM75Q1UfoP</td>\n",
       "      <td>Bandajuma Kpolihun CHP</td>\n",
       "    </tr>\n",
       "    <tr>\n",
       "      <th>30</th>\n",
       "      <td>rx9ubw0UCqj</td>\n",
       "      <td>Bandajuma MCHP</td>\n",
       "    </tr>\n",
       "    <tr>\n",
       "      <th>31</th>\n",
       "      <td>OZ1olxsTyNa</td>\n",
       "      <td>Bandajuma Sinneh MCHP</td>\n",
       "    </tr>\n",
       "    <tr>\n",
       "      <th>32</th>\n",
       "      <td>MpcMjLmbATv</td>\n",
       "      <td>Bandajuma Yawei CHC</td>\n",
       "    </tr>\n",
       "    <tr>\n",
       "      <th>33</th>\n",
       "      <td>qO2JLjYrg91</td>\n",
       "      <td>Bandakarifaia MCHP</td>\n",
       "    </tr>\n",
       "    <tr>\n",
       "      <th>34</th>\n",
       "      <td>U7yKrx2QVet</td>\n",
       "      <td>Bandaperie CHP</td>\n",
       "    </tr>\n",
       "    <tr>\n",
       "      <th>35</th>\n",
       "      <td>uPshwz3B3Uu</td>\n",
       "      <td>Bandasuma CHP</td>\n",
       "    </tr>\n",
       "    <tr>\n",
       "      <th>36</th>\n",
       "      <td>aF6iPGbrcRk</td>\n",
       "      <td>Bandasuma Fiama MCHP</td>\n",
       "    </tr>\n",
       "    <tr>\n",
       "      <th>37</th>\n",
       "      <td>lpAPY3QOY2D</td>\n",
       "      <td>Bandawor MCHP</td>\n",
       "    </tr>\n",
       "    <tr>\n",
       "      <th>38</th>\n",
       "      <td>t1aAdpBbDB3</td>\n",
       "      <td>Bandusuma MCHP</td>\n",
       "    </tr>\n",
       "    <tr>\n",
       "      <th>39</th>\n",
       "      <td>xQIU41mR69s</td>\n",
       "      <td>Bangambaya MCHP</td>\n",
       "    </tr>\n",
       "    <tr>\n",
       "      <th>40</th>\n",
       "      <td>pdF4XIHIGPx</td>\n",
       "      <td>Bangoma MCHP</td>\n",
       "    </tr>\n",
       "    <tr>\n",
       "      <th>41</th>\n",
       "      <td>rxc497GUdDt</td>\n",
       "      <td>Banka Makuloh MCHP</td>\n",
       "    </tr>\n",
       "    <tr>\n",
       "      <th>42</th>\n",
       "      <td>Yj2ni275yPJ</td>\n",
       "      <td>Baoma (Koya) CHC</td>\n",
       "    </tr>\n",
       "    <tr>\n",
       "      <th>43</th>\n",
       "      <td>TQ5DSmdliN7</td>\n",
       "      <td>Baoma (Luawa) MCHP</td>\n",
       "    </tr>\n",
       "    <tr>\n",
       "      <th>44</th>\n",
       "      <td>a1dP5m3Clw4</td>\n",
       "      <td>Baoma Kpenge CHP</td>\n",
       "    </tr>\n",
       "    <tr>\n",
       "      <th>45</th>\n",
       "      <td>t52CJEyLhch</td>\n",
       "      <td>Baoma MCHP</td>\n",
       "    </tr>\n",
       "    <tr>\n",
       "      <th>46</th>\n",
       "      <td>Y8foq27WLti</td>\n",
       "      <td>Baoma Oil Mill CHC</td>\n",
       "    </tr>\n",
       "    <tr>\n",
       "      <th>47</th>\n",
       "      <td>jNb63DIHuwU</td>\n",
       "      <td>Baoma Station CHP</td>\n",
       "    </tr>\n",
       "    <tr>\n",
       "      <th>48</th>\n",
       "      <td>x8SUTSsJoeO</td>\n",
       "      <td>Baoma-Peje CHP</td>\n",
       "    </tr>\n",
       "    <tr>\n",
       "      <th>49</th>\n",
       "      <td>FLjwMPWLrL2</td>\n",
       "      <td>Baomahun CHC</td>\n",
       "    </tr>\n",
       "  </tbody>\n",
       "</table>\n",
       "</div>"
      ],
      "text/plain": [
       "             id                  displayName\n",
       "0   ueuQlqb8ccl                 Panderu MCHP\n",
       "1   Rp268JB6Ne4                  Adonkia CHP\n",
       "2   cDw53Ej8rju             Afro Arab Clinic\n",
       "3   GvFqTavdpGE                    Agape CHP\n",
       "4   plnHVbJR6p4         Ahamadyya Mission Cl\n",
       "5   BV4IomHvri4    Ahmadiyya Muslim Hospital\n",
       "6   qjboFI0irVu       Air Port Centre, Lungi\n",
       "7   dWOAzMcK2Wt                  Alkalia CHP\n",
       "8   kbGqmM6ZWWV       Allen Town Health Post\n",
       "9   eoYV2p74eVz          Approved School CHP\n",
       "10  nq7F0t1Pz6t                  Arab Clinic\n",
       "11  r5WWF9WDzoa                    Baama CHC\n",
       "12  yMCshbaVExv                   Babara CHC\n",
       "13  tlMeFk8C4CG                  Badala MCHP\n",
       "14  Jiymtq0A01x                  Bafodia CHC\n",
       "15  BH7rDkWjUqc  Bai Bureh Memorial Hospital\n",
       "16  Rll4VmTDRiE               Bai Largo MCHP\n",
       "17  XtuhRhmbrJM                   Baiama CHP\n",
       "18  c41XRVOYNJm                   Baiima CHP\n",
       "19  Eyj2kiEJ7M3                   Bailor CHP\n",
       "20  HFyjUvMjQ8H                  Baiwala CHP\n",
       "21  MHAWZr2Caxw                 Bakeloko CHP\n",
       "22  LOpWauwwghf            Bambara Kaima CHP\n",
       "23  mUuCjQWMaOc                 Bambara MCHP\n",
       "24  TNbHYOuQi8s                Bambawolo CHP\n",
       "25  aSfF9kuNINJ          Bambuibu Tommy MCHP\n",
       "26  wYLjA4vN6Y9               Bambukoro MCHP\n",
       "27  jjtzkzrmG7s           Banana Island MCHP\n",
       "28  FNnj3jKGS7i         Bandajuma Clinic CHC\n",
       "29  ABM75Q1UfoP       Bandajuma Kpolihun CHP\n",
       "30  rx9ubw0UCqj               Bandajuma MCHP\n",
       "31  OZ1olxsTyNa        Bandajuma Sinneh MCHP\n",
       "32  MpcMjLmbATv          Bandajuma Yawei CHC\n",
       "33  qO2JLjYrg91           Bandakarifaia MCHP\n",
       "34  U7yKrx2QVet               Bandaperie CHP\n",
       "35  uPshwz3B3Uu                Bandasuma CHP\n",
       "36  aF6iPGbrcRk         Bandasuma Fiama MCHP\n",
       "37  lpAPY3QOY2D                Bandawor MCHP\n",
       "38  t1aAdpBbDB3               Bandusuma MCHP\n",
       "39  xQIU41mR69s              Bangambaya MCHP\n",
       "40  pdF4XIHIGPx                 Bangoma MCHP\n",
       "41  rxc497GUdDt           Banka Makuloh MCHP\n",
       "42  Yj2ni275yPJ             Baoma (Koya) CHC\n",
       "43  TQ5DSmdliN7           Baoma (Luawa) MCHP\n",
       "44  a1dP5m3Clw4             Baoma Kpenge CHP\n",
       "45  t52CJEyLhch                   Baoma MCHP\n",
       "46  Y8foq27WLti           Baoma Oil Mill CHC\n",
       "47  jNb63DIHuwU            Baoma Station CHP\n",
       "48  x8SUTSsJoeO               Baoma-Peje CHP\n",
       "49  FLjwMPWLrL2                 Baomahun CHC"
      ]
     },
     "execution_count": 35,
     "metadata": {},
     "output_type": "execute_result"
    }
   ],
   "source": [
    "r = api.get('organisationUnits.geojson', params={\n",
    "    'level':2,\n",
    "    'level':4\n",
    "})\n",
    "feature_list = pd.DataFrame(r.json()['organisationUnits'])\n",
    "feature_list"
   ]
  },
  {
   "cell_type": "code",
   "execution_count": 42,
   "id": "db35088d",
   "metadata": {
    "ExecuteTime": {
     "end_time": "2021-08-09T17:48:39.742590Z",
     "start_time": "2021-08-09T17:48:38.032283Z"
    }
   },
   "outputs": [
    {
     "ename": "DriverError",
     "evalue": "{\"pager\":{\"page\":1,\"pageCount\":27,\"total\":1333,\"pageSize\":50,\"nextPage\":\"https://play.dhis2.org/dev/api/organisationUnits.geojson.json?page=2&parent=fdc6uOvgoji&ty=2&level=3\"},\"organisationUnits\":[{\"id\":\"YuQRtpLP10I\",\"displayName\":\"Badjia\"},{\"id\":\"jPidqyo7cpF\",\"displayName\":\"Bagruwa\"},{\"id\":\"vWbkYPRmKyS\",\"displayName\":\"Baoma\"},{\"id\":\"dGheVylzol6\",\"displayName\":\"Bargbe\"},{\"id\":\"zFDYIgyGmXG\",\"displayName\":\"Bargbo\"},{\"id\":\"RzKeCma9qb1\",\"displayName\":\"Barri\"},{\"id\":\"EB1zRKdYjdY\",\"displayName\":\"Bendu Cha\"},{\"id\":\"fwH9ipvXde9\",\"displayName\":\"Biriwa\"},{\"id\":\"ENHOJz3UH5L\",\"displayName\":\"BMC\"},{\"id\":\"KKkLOTpMXGV\",\"displayName\":\"Bombali Sebora\"},{\"id\":\"kbPmt60yi0L\",\"displayName\":\"Bramaia\"},{\"id\":\"iUauWFeH8Qp\",\"displayName\":\"Bum\"},{\"id\":\"BGGmAwx33dj\",\"displayName\":\"Bumpe Ngao\"},{\"id\":\"nOYt1LtFSyU\",\"displayName\":\"Bumpeh\"},{\"id\":\"TA7NvKjsn4A\",\"displayName\":\"Bureh Kasseh Maconteh\"},{\"id\":\"Pc3JTyqnsmL\",\"displayName\":\"Buya Romende\"},{\"id\":\"myQ4q1W6B4y\",\"displayName\":\"Dama\"},{\"id\":\"RndxKqQGzUl\",\"displayName\":\"Dasse\"},{\"id\":\"lYIM1MXbSYS\",\"displayName\":\"Dea\"},{\"id\":\"DNRAeXT9IwS\",\"displayName\":\"Dema\"},{\"id\":\"Mr4au3jR9bt\",\"displayName\":\"Dembelia Sinkunia\"},{\"id\":\"Lt8U7GVWvSR\",\"displayName\":\"Diang\"},{\"id\":\"ZiOVcrSjSYe\",\"displayName\":\"Dibia\"},{\"id\":\"QlCIp2S9NHs\",\"displayName\":\"Dodo\"},{\"id\":\"vULnao2hV5v\",\"displayName\":\"Fakunya\"},{\"id\":\"CF243RPvNY7\",\"displayName\":\"Fiama\"},{\"id\":\"iEkBZnMDarP\",\"displayName\":\"Folosaba Dembelia\"},{\"id\":\"C9uduqDZr9d\",\"displayName\":\"Freetown\"},{\"id\":\"eNtRuQrrZeo\",\"displayName\":\"Galliness Perri\"},{\"id\":\"eROJsBwxQHt\",\"displayName\":\"Gaura\"},{\"id\":\"ajILkI0cfxn\",\"displayName\":\"Gbane\"},{\"id\":\"Zoy23SSHCPs\",\"displayName\":\"Gbane Kandor\"},{\"id\":\"e1eIKM1GIF3\",\"displayName\":\"Gbanti Kamaranka\"},{\"id\":\"BXJdOLvUrZB\",\"displayName\":\"Gbendembu Ngowahun\"},{\"id\":\"TQkG0sX9nca\",\"displayName\":\"Gbense\"},{\"id\":\"qIRCo0MfuGb\",\"displayName\":\"Gbinleh Dixion\"},{\"id\":\"YmmeuGbqOwR\",\"displayName\":\"Gbo\"},{\"id\":\"P69SId31eDp\",\"displayName\":\"Gbonkonlenken\"},{\"id\":\"GWTIxJO9pRo\",\"displayName\":\"Gorama Kono\"},{\"id\":\"KXSqt7jv6DU\",\"displayName\":\"Gorama Mende\"},{\"id\":\"XEyIRFd9pct\",\"displayName\":\"Imperi\"},{\"id\":\"daJPPxtIrQn\",\"displayName\":\"Jaiama Bongor\"},{\"id\":\"KSdZwrU7Hh6\",\"displayName\":\"Jawi\"},{\"id\":\"VCtF1DbspR5\",\"displayName\":\"Jong\"},{\"id\":\"BmYyh9bZ0sr\",\"displayName\":\"Kafe Simira\"},{\"id\":\"vn9KJsLyP5f\",\"displayName\":\"Kaffu Bullom\"},{\"id\":\"USQdmvrHh1Q\",\"displayName\":\"Kaiyamba\"},{\"id\":\"U6Kr7Gtpidn\",\"displayName\":\"Kakua\"},{\"id\":\"smoyi1iYNK6\",\"displayName\":\"Kalansogoia\"},{\"id\":\"LsYpCyYxSLY\",\"displayName\":\"Kamaje\"}]}: No such file or directory",
     "output_type": "error",
     "traceback": [
      "\u001b[0;31m---------------------------------------------------------------------------\u001b[0m",
      "\u001b[0;31mCPLE_OpenFailedError\u001b[0m                      Traceback (most recent call last)",
      "\u001b[0;32mfiona/_shim.pyx\u001b[0m in \u001b[0;36mfiona._shim.gdal_open_vector\u001b[0;34m()\u001b[0m\n",
      "\u001b[0;32mfiona/_err.pyx\u001b[0m in \u001b[0;36mfiona._err.exc_wrap_pointer\u001b[0;34m()\u001b[0m\n",
      "\u001b[0;31mCPLE_OpenFailedError\u001b[0m: {\"pager\":{\"page\":1,\"pageCount\":27,\"total\":1333,\"pageSize\":50,\"nextPage\":\"https://play.dhis2.org/dev/api/organisationUnits.geojson.json?page=2&parent=fdc6uOvgoji&ty=2&level=3\"},\"organisationUnits\":[{\"id\":\"YuQRtpLP10I\",\"displayName\":\"Badjia\"},{\"id\":\"jPidqyo7cpF\",\"displayName\":\"Bagruwa\"},{\"id\":\"vWbkYPRmKyS\",\"displayName\":\"Baoma\"},{\"id\":\"dGheVylzol6\",\"displayName\":\"Bargbe\"},{\"id\":\"zFDYIgyGmXG\",\"displayName\":\"Bargbo\"},{\"id\":\"RzKeCma9qb1\",\"displayName\":\"Barri\"},{\"id\":\"EB1zRKdYjdY\",\"displayName\":\"Bendu Cha\"},{\"id\":\"fwH9ipvXde9\",\"displayName\":\"Biriwa\"},{\"id\":\"ENHOJz3UH5L\",\"displayName\":\"BMC\"},{\"id\":\"KKkLOTpMXGV\",\"displayName\":\"Bombali Sebora\"},{\"id\":\"kbPmt60yi0L\",\"displayName\":\"Bramaia\"},{\"id\":\"iUauWFeH8Qp\",\"displayName\":\"Bum\"},{\"id\":\"BGGmAwx33dj\",\"displayName\":\"Bumpe Ngao\"},{\"id\":\"nOYt1LtFSyU\",\"displayName\":\"Bumpeh\"},{\"id\":\"TA7NvKjsn4A\",\"displayName\":\"Bureh Kasseh Maconteh\"},{\"id\":\"Pc3JTyqnsmL\",\"displayName\":\"Buya Romende\"},{\"id\":\"myQ4q1W6B4y\",\"displayName\":\"Dama\"},{\"id\":\"RndxKqQGzUl\",\"displayName\":\"Dasse\"},{\"id\":\"lYIM1MXbSYS\",\"displayName\":\"Dea\"},{\"id\":\"DNRAeXT9IwS\",\"displayName\":\"Dema\"},{\"id\":\"Mr4au3jR9bt\",\"displayName\":\"Dembelia Sinkunia\"},{\"id\":\"Lt8U7GVWvSR\",\"displayName\":\"Diang\"},{\"id\":\"ZiOVcrSjSYe\",\"displayName\":\"Dibia\"},{\"id\":\"QlCIp2S9NHs\",\"displayName\":\"Dodo\"},{\"id\":\"vULnao2hV5v\",\"displayName\":\"Fakunya\"},{\"id\":\"CF243RPvNY7\",\"displayName\":\"Fiama\"},{\"id\":\"iEkBZnMDarP\",\"displayName\":\"Folosaba Dembelia\"},{\"id\":\"C9uduqDZr9d\",\"displayName\":\"Freetown\"},{\"id\":\"eNtRuQrrZeo\",\"displayName\":\"Galliness Perri\"},{\"id\":\"eROJsBwxQHt\",\"displayName\":\"Gaura\"},{\"id\":\"ajILkI0cfxn\",\"displayName\":\"Gbane\"},{\"id\":\"Zoy23SSHCPs\",\"displayName\":\"Gbane Kandor\"},{\"id\":\"e1eIKM1GIF3\",\"displayName\":\"Gbanti Kamaranka\"},{\"id\":\"BXJdOLvUrZB\",\"displayName\":\"Gbendembu Ngowahun\"},{\"id\":\"TQkG0sX9nca\",\"displayName\":\"Gbense\"},{\"id\":\"qIRCo0MfuGb\",\"displayName\":\"Gbinleh Dixion\"},{\"id\":\"YmmeuGbqOwR\",\"displayName\":\"Gbo\"},{\"id\":\"P69SId31eDp\",\"displayName\":\"Gbonkonlenken\"},{\"id\":\"GWTIxJO9pRo\",\"displayName\":\"Gorama Kono\"},{\"id\":\"KXSqt7jv6DU\",\"displayName\":\"Gorama Mende\"},{\"id\":\"XEyIRFd9pct\",\"displayName\":\"Imperi\"},{\"id\":\"daJPPxtIrQn\",\"displayName\":\"Jaiama Bongor\"},{\"id\":\"KSdZwrU7Hh6\",\"displayName\":\"Jawi\"},{\"id\":\"VCtF1DbspR5\",\"displayName\":\"Jong\"},{\"id\":\"BmYyh9bZ0sr\",\"displayName\":\"Kafe Simira\"},{\"id\":\"vn9KJsLyP5f\",\"displayName\":\"Kaffu Bullom\"},{\"id\":\"USQdmvrHh1Q\",\"displayName\":\"Kaiyamba\"},{\"id\":\"U6Kr7Gtpidn\",\"displayName\":\"Kakua\"},{\"id\":\"smoyi1iYNK6\",\"displayName\":\"Kalansogoia\"},{\"id\":\"LsYpCyYxSLY\",\"displayName\":\"Kamaje\"}]}: No such file or directory",
      "\nDuring handling of the above exception, another exception occurred:\n",
      "\u001b[0;31mDriverError\u001b[0m                               Traceback (most recent call last)",
      "\u001b[0;32m<ipython-input-42-5b3432d3f8c1>\u001b[0m in \u001b[0;36m<module>\u001b[0;34m\u001b[0m\n\u001b[1;32m      4\u001b[0m     \u001b[0;34m'ty'\u001b[0m\u001b[0;34m:\u001b[0m\u001b[0;36m2\u001b[0m\u001b[0;34m\u001b[0m\u001b[0;34m\u001b[0m\u001b[0m\n\u001b[1;32m      5\u001b[0m })\n\u001b[0;32m----> 6\u001b[0;31m \u001b[0mgpd\u001b[0m\u001b[0;34m.\u001b[0m\u001b[0mread_file\u001b[0m\u001b[0;34m(\u001b[0m\u001b[0mr\u001b[0m\u001b[0;34m.\u001b[0m\u001b[0mtext\u001b[0m\u001b[0;34m,\u001b[0m \u001b[0mdriver\u001b[0m\u001b[0;34m=\u001b[0m\u001b[0;34m'GEOJSON'\u001b[0m\u001b[0;34m)\u001b[0m\u001b[0;34m\u001b[0m\u001b[0;34m\u001b[0m\u001b[0m\n\u001b[0m",
      "\u001b[0;32m~/.local/lib/python3.8/site-packages/geopandas/io/file.py\u001b[0m in \u001b[0;36m_read_file\u001b[0;34m(filename, bbox, mask, rows, **kwargs)\u001b[0m\n\u001b[1;32m    158\u001b[0m \u001b[0;34m\u001b[0m\u001b[0m\n\u001b[1;32m    159\u001b[0m     \u001b[0;32mwith\u001b[0m \u001b[0mfiona_env\u001b[0m\u001b[0;34m(\u001b[0m\u001b[0;34m)\u001b[0m\u001b[0;34m:\u001b[0m\u001b[0;34m\u001b[0m\u001b[0;34m\u001b[0m\u001b[0m\n\u001b[0;32m--> 160\u001b[0;31m         \u001b[0;32mwith\u001b[0m \u001b[0mreader\u001b[0m\u001b[0;34m(\u001b[0m\u001b[0mpath_or_bytes\u001b[0m\u001b[0;34m,\u001b[0m \u001b[0;34m**\u001b[0m\u001b[0mkwargs\u001b[0m\u001b[0;34m)\u001b[0m \u001b[0;32mas\u001b[0m \u001b[0mfeatures\u001b[0m\u001b[0;34m:\u001b[0m\u001b[0;34m\u001b[0m\u001b[0;34m\u001b[0m\u001b[0m\n\u001b[0m\u001b[1;32m    161\u001b[0m \u001b[0;34m\u001b[0m\u001b[0m\n\u001b[1;32m    162\u001b[0m             \u001b[0;31m# In a future Fiona release the crs attribute of features will\u001b[0m\u001b[0;34m\u001b[0m\u001b[0;34m\u001b[0m\u001b[0;34m\u001b[0m\u001b[0m\n",
      "\u001b[0;32m~/.local/lib/python3.8/site-packages/fiona/env.py\u001b[0m in \u001b[0;36mwrapper\u001b[0;34m(*args, **kwargs)\u001b[0m\n\u001b[1;32m    406\u001b[0m     \u001b[0;32mdef\u001b[0m \u001b[0mwrapper\u001b[0m\u001b[0;34m(\u001b[0m\u001b[0;34m*\u001b[0m\u001b[0margs\u001b[0m\u001b[0;34m,\u001b[0m \u001b[0;34m**\u001b[0m\u001b[0mkwargs\u001b[0m\u001b[0;34m)\u001b[0m\u001b[0;34m:\u001b[0m\u001b[0;34m\u001b[0m\u001b[0;34m\u001b[0m\u001b[0m\n\u001b[1;32m    407\u001b[0m         \u001b[0;32mif\u001b[0m \u001b[0mlocal\u001b[0m\u001b[0;34m.\u001b[0m\u001b[0m_env\u001b[0m\u001b[0;34m:\u001b[0m\u001b[0;34m\u001b[0m\u001b[0;34m\u001b[0m\u001b[0m\n\u001b[0;32m--> 408\u001b[0;31m             \u001b[0;32mreturn\u001b[0m \u001b[0mf\u001b[0m\u001b[0;34m(\u001b[0m\u001b[0;34m*\u001b[0m\u001b[0margs\u001b[0m\u001b[0;34m,\u001b[0m \u001b[0;34m**\u001b[0m\u001b[0mkwargs\u001b[0m\u001b[0;34m)\u001b[0m\u001b[0;34m\u001b[0m\u001b[0;34m\u001b[0m\u001b[0m\n\u001b[0m\u001b[1;32m    409\u001b[0m         \u001b[0;32melse\u001b[0m\u001b[0;34m:\u001b[0m\u001b[0;34m\u001b[0m\u001b[0;34m\u001b[0m\u001b[0m\n\u001b[1;32m    410\u001b[0m             \u001b[0;32mif\u001b[0m \u001b[0misinstance\u001b[0m\u001b[0;34m(\u001b[0m\u001b[0margs\u001b[0m\u001b[0;34m[\u001b[0m\u001b[0;36m0\u001b[0m\u001b[0;34m]\u001b[0m\u001b[0;34m,\u001b[0m \u001b[0mstr\u001b[0m\u001b[0;34m)\u001b[0m\u001b[0;34m:\u001b[0m\u001b[0;34m\u001b[0m\u001b[0;34m\u001b[0m\u001b[0m\n",
      "\u001b[0;32m~/.local/lib/python3.8/site-packages/fiona/__init__.py\u001b[0m in \u001b[0;36mopen\u001b[0;34m(fp, mode, driver, schema, crs, encoding, layer, vfs, enabled_drivers, crs_wkt, **kwargs)\u001b[0m\n\u001b[1;32m    254\u001b[0m \u001b[0;34m\u001b[0m\u001b[0m\n\u001b[1;32m    255\u001b[0m         \u001b[0;32mif\u001b[0m \u001b[0mmode\u001b[0m \u001b[0;32min\u001b[0m \u001b[0;34m(\u001b[0m\u001b[0;34m'a'\u001b[0m\u001b[0;34m,\u001b[0m \u001b[0;34m'r'\u001b[0m\u001b[0;34m)\u001b[0m\u001b[0;34m:\u001b[0m\u001b[0;34m\u001b[0m\u001b[0;34m\u001b[0m\u001b[0m\n\u001b[0;32m--> 256\u001b[0;31m             c = Collection(path, mode, driver=driver, encoding=encoding,\n\u001b[0m\u001b[1;32m    257\u001b[0m                            layer=layer, enabled_drivers=enabled_drivers, **kwargs)\n\u001b[1;32m    258\u001b[0m         \u001b[0;32melif\u001b[0m \u001b[0mmode\u001b[0m \u001b[0;34m==\u001b[0m \u001b[0;34m'w'\u001b[0m\u001b[0;34m:\u001b[0m\u001b[0;34m\u001b[0m\u001b[0;34m\u001b[0m\u001b[0m\n",
      "\u001b[0;32m~/.local/lib/python3.8/site-packages/fiona/collection.py\u001b[0m in \u001b[0;36m__init__\u001b[0;34m(self, path, mode, driver, schema, crs, encoding, layer, vsi, archive, enabled_drivers, crs_wkt, ignore_fields, ignore_geometry, **kwargs)\u001b[0m\n\u001b[1;32m    160\u001b[0m             \u001b[0;32mif\u001b[0m \u001b[0mself\u001b[0m\u001b[0;34m.\u001b[0m\u001b[0mmode\u001b[0m \u001b[0;34m==\u001b[0m \u001b[0;34m'r'\u001b[0m\u001b[0;34m:\u001b[0m\u001b[0;34m\u001b[0m\u001b[0;34m\u001b[0m\u001b[0m\n\u001b[1;32m    161\u001b[0m                 \u001b[0mself\u001b[0m\u001b[0;34m.\u001b[0m\u001b[0msession\u001b[0m \u001b[0;34m=\u001b[0m \u001b[0mSession\u001b[0m\u001b[0;34m(\u001b[0m\u001b[0;34m)\u001b[0m\u001b[0;34m\u001b[0m\u001b[0;34m\u001b[0m\u001b[0m\n\u001b[0;32m--> 162\u001b[0;31m                 \u001b[0mself\u001b[0m\u001b[0;34m.\u001b[0m\u001b[0msession\u001b[0m\u001b[0;34m.\u001b[0m\u001b[0mstart\u001b[0m\u001b[0;34m(\u001b[0m\u001b[0mself\u001b[0m\u001b[0;34m,\u001b[0m \u001b[0;34m**\u001b[0m\u001b[0mkwargs\u001b[0m\u001b[0;34m)\u001b[0m\u001b[0;34m\u001b[0m\u001b[0;34m\u001b[0m\u001b[0m\n\u001b[0m\u001b[1;32m    163\u001b[0m             \u001b[0;32melif\u001b[0m \u001b[0mself\u001b[0m\u001b[0;34m.\u001b[0m\u001b[0mmode\u001b[0m \u001b[0;32min\u001b[0m \u001b[0;34m(\u001b[0m\u001b[0;34m'a'\u001b[0m\u001b[0;34m,\u001b[0m \u001b[0;34m'w'\u001b[0m\u001b[0;34m)\u001b[0m\u001b[0;34m:\u001b[0m\u001b[0;34m\u001b[0m\u001b[0;34m\u001b[0m\u001b[0m\n\u001b[1;32m    164\u001b[0m                 \u001b[0mself\u001b[0m\u001b[0;34m.\u001b[0m\u001b[0msession\u001b[0m \u001b[0;34m=\u001b[0m \u001b[0mWritingSession\u001b[0m\u001b[0;34m(\u001b[0m\u001b[0;34m)\u001b[0m\u001b[0;34m\u001b[0m\u001b[0;34m\u001b[0m\u001b[0m\n",
      "\u001b[0;32mfiona/ogrext.pyx\u001b[0m in \u001b[0;36mfiona.ogrext.Session.start\u001b[0;34m()\u001b[0m\n",
      "\u001b[0;32mfiona/_shim.pyx\u001b[0m in \u001b[0;36mfiona._shim.gdal_open_vector\u001b[0;34m()\u001b[0m\n",
      "\u001b[0;31mDriverError\u001b[0m: {\"pager\":{\"page\":1,\"pageCount\":27,\"total\":1333,\"pageSize\":50,\"nextPage\":\"https://play.dhis2.org/dev/api/organisationUnits.geojson.json?page=2&parent=fdc6uOvgoji&ty=2&level=3\"},\"organisationUnits\":[{\"id\":\"YuQRtpLP10I\",\"displayName\":\"Badjia\"},{\"id\":\"jPidqyo7cpF\",\"displayName\":\"Bagruwa\"},{\"id\":\"vWbkYPRmKyS\",\"displayName\":\"Baoma\"},{\"id\":\"dGheVylzol6\",\"displayName\":\"Bargbe\"},{\"id\":\"zFDYIgyGmXG\",\"displayName\":\"Bargbo\"},{\"id\":\"RzKeCma9qb1\",\"displayName\":\"Barri\"},{\"id\":\"EB1zRKdYjdY\",\"displayName\":\"Bendu Cha\"},{\"id\":\"fwH9ipvXde9\",\"displayName\":\"Biriwa\"},{\"id\":\"ENHOJz3UH5L\",\"displayName\":\"BMC\"},{\"id\":\"KKkLOTpMXGV\",\"displayName\":\"Bombali Sebora\"},{\"id\":\"kbPmt60yi0L\",\"displayName\":\"Bramaia\"},{\"id\":\"iUauWFeH8Qp\",\"displayName\":\"Bum\"},{\"id\":\"BGGmAwx33dj\",\"displayName\":\"Bumpe Ngao\"},{\"id\":\"nOYt1LtFSyU\",\"displayName\":\"Bumpeh\"},{\"id\":\"TA7NvKjsn4A\",\"displayName\":\"Bureh Kasseh Maconteh\"},{\"id\":\"Pc3JTyqnsmL\",\"displayName\":\"Buya Romende\"},{\"id\":\"myQ4q1W6B4y\",\"displayName\":\"Dama\"},{\"id\":\"RndxKqQGzUl\",\"displayName\":\"Dasse\"},{\"id\":\"lYIM1MXbSYS\",\"displayName\":\"Dea\"},{\"id\":\"DNRAeXT9IwS\",\"displayName\":\"Dema\"},{\"id\":\"Mr4au3jR9bt\",\"displayName\":\"Dembelia Sinkunia\"},{\"id\":\"Lt8U7GVWvSR\",\"displayName\":\"Diang\"},{\"id\":\"ZiOVcrSjSYe\",\"displayName\":\"Dibia\"},{\"id\":\"QlCIp2S9NHs\",\"displayName\":\"Dodo\"},{\"id\":\"vULnao2hV5v\",\"displayName\":\"Fakunya\"},{\"id\":\"CF243RPvNY7\",\"displayName\":\"Fiama\"},{\"id\":\"iEkBZnMDarP\",\"displayName\":\"Folosaba Dembelia\"},{\"id\":\"C9uduqDZr9d\",\"displayName\":\"Freetown\"},{\"id\":\"eNtRuQrrZeo\",\"displayName\":\"Galliness Perri\"},{\"id\":\"eROJsBwxQHt\",\"displayName\":\"Gaura\"},{\"id\":\"ajILkI0cfxn\",\"displayName\":\"Gbane\"},{\"id\":\"Zoy23SSHCPs\",\"displayName\":\"Gbane Kandor\"},{\"id\":\"e1eIKM1GIF3\",\"displayName\":\"Gbanti Kamaranka\"},{\"id\":\"BXJdOLvUrZB\",\"displayName\":\"Gbendembu Ngowahun\"},{\"id\":\"TQkG0sX9nca\",\"displayName\":\"Gbense\"},{\"id\":\"qIRCo0MfuGb\",\"displayName\":\"Gbinleh Dixion\"},{\"id\":\"YmmeuGbqOwR\",\"displayName\":\"Gbo\"},{\"id\":\"P69SId31eDp\",\"displayName\":\"Gbonkonlenken\"},{\"id\":\"GWTIxJO9pRo\",\"displayName\":\"Gorama Kono\"},{\"id\":\"KXSqt7jv6DU\",\"displayName\":\"Gorama Mende\"},{\"id\":\"XEyIRFd9pct\",\"displayName\":\"Imperi\"},{\"id\":\"daJPPxtIrQn\",\"displayName\":\"Jaiama Bongor\"},{\"id\":\"KSdZwrU7Hh6\",\"displayName\":\"Jawi\"},{\"id\":\"VCtF1DbspR5\",\"displayName\":\"Jong\"},{\"id\":\"BmYyh9bZ0sr\",\"displayName\":\"Kafe Simira\"},{\"id\":\"vn9KJsLyP5f\",\"displayName\":\"Kaffu Bullom\"},{\"id\":\"USQdmvrHh1Q\",\"displayName\":\"Kaiyamba\"},{\"id\":\"U6Kr7Gtpidn\",\"displayName\":\"Kakua\"},{\"id\":\"smoyi1iYNK6\",\"displayName\":\"Kalansogoia\"},{\"id\":\"LsYpCyYxSLY\",\"displayName\":\"Kamaje\"}]}: No such file or directory"
     ]
    }
   ],
   "source": [
    "r = api.get('organisationUnits.geojson', params={\n",
    "    'level':3,\n",
    "    'parent':'fdc6uOvgoji',\n",
    "    'ty':2\n",
    "})\n",
    "gpd.read_file(r.text, driver='GEOJSON')"
   ]
  },
  {
   "cell_type": "code",
   "execution_count": null,
   "id": "1b27953e",
   "metadata": {},
   "outputs": [],
   "source": []
  }
 ],
 "metadata": {
  "hide_input": false,
  "kernelspec": {
   "display_name": "Python 3",
   "language": "python",
   "name": "python3"
  },
  "language_info": {
   "codemirror_mode": {
    "name": "ipython",
    "version": 3
   },
   "file_extension": ".py",
   "mimetype": "text/x-python",
   "name": "python",
   "nbconvert_exporter": "python",
   "pygments_lexer": "ipython3",
   "version": "3.8.10"
  },
  "latex_envs": {
   "LaTeX_envs_menu_present": true,
   "autoclose": false,
   "autocomplete": true,
   "bibliofile": "biblio.bib",
   "cite_by": "apalike",
   "current_citInitial": 1,
   "eqLabelWithNumbers": true,
   "eqNumInitial": 1,
   "hotkeys": {
    "equation": "Ctrl-E",
    "itemize": "Ctrl-I"
   },
   "labels_anchors": false,
   "latex_user_defs": false,
   "report_style_numbering": false,
   "user_envs_cfg": false
  },
  "nbTranslate": {
   "displayLangs": [
    "*"
   ],
   "hotkey": "alt-t",
   "langInMainMenu": true,
   "sourceLang": "en",
   "targetLang": "fr",
   "useGoogleTranslate": true
  },
  "toc": {
   "base_numbering": 1,
   "nav_menu": {},
   "number_sections": true,
   "sideBar": true,
   "skip_h1_title": false,
   "title_cell": "Table of Contents",
   "title_sidebar": "Contents",
   "toc_cell": false,
   "toc_position": {},
   "toc_section_display": true,
   "toc_window_display": false
  },
  "varInspector": {
   "cols": {
    "lenName": 16,
    "lenType": 16,
    "lenVar": 40
   },
   "kernels_config": {
    "python": {
     "delete_cmd_postfix": "",
     "delete_cmd_prefix": "del ",
     "library": "var_list.py",
     "varRefreshCmd": "print(var_dic_list())"
    },
    "r": {
     "delete_cmd_postfix": ") ",
     "delete_cmd_prefix": "rm(",
     "library": "var_list.r",
     "varRefreshCmd": "cat(var_dic_list()) "
    }
   },
   "types_to_exclude": [
    "module",
    "function",
    "builtin_function_or_method",
    "instance",
    "_Feature"
   ],
   "window_display": false
  }
 },
 "nbformat": 4,
 "nbformat_minor": 5
}
